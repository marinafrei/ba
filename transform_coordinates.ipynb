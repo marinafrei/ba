{
 "cells": [
  {
   "cell_type": "code",
   "execution_count": 2,
   "id": "6f5dc5a3",
   "metadata": {},
   "outputs": [],
   "source": [
    "import pandas as pd\n",
    "from pyproj import Transformer"
   ]
  },
  {
   "cell_type": "code",
   "execution_count": 3,
   "id": "38e4949c",
   "metadata": {},
   "outputs": [
    {
     "name": "stdout",
     "output_type": "stream",
     "text": [
      "   GDEHISTID  GDENR         GDENAME  Z_CNTR   E_CNTR   N_CNTR  KTNR  \\\n",
      "0      15695   3832           Grono     331  2731900  1123300    18   \n",
      "1      15962   3506     Vaz/Obervaz    1475  2761800  1177300    18   \n",
      "2      15963   3513    Lantsch/Lenz    1309  2762500  1172400    18   \n",
      "3      15964   3514  Schmitten (GR)    1264  2770800  1173200    18   \n",
      "4      15967   3551          Brusio     748  2807200  1126400    18   \n",
      "\n",
      "                             KTNAME  BEZNR         BEZNAME  \n",
      "0  Graubünden / Grigioni / Grischun   1847    Region Moesa  \n",
      "1  Graubünden / Grigioni / Grischun   1841   Region Albula  \n",
      "2  Graubünden / Grigioni / Grischun   1841   Region Albula  \n",
      "3  Graubünden / Grigioni / Grischun   1841   Region Albula  \n",
      "4  Graubünden / Grigioni / Grischun   1842  Region Bernina  \n"
     ]
    }
   ],
   "source": [
    "df = pd.read_excel('Gemeinden_Graubünden.xlsx')\n",
    "print(df.head())"
   ]
  },
  {
   "cell_type": "code",
   "execution_count": 4,
   "id": "5428f3cc",
   "metadata": {},
   "outputs": [],
   "source": [
    "transformer = Transformer.from_crs('EPSG:2056', \"EPSG:4326\")"
   ]
  },
  {
   "cell_type": "code",
   "execution_count": 5,
   "id": "eb129e2b",
   "metadata": {},
   "outputs": [
    {
     "name": "stdout",
     "output_type": "stream",
     "text": [
      "   GDEHISTID  GDENR         GDENAME  Z_CNTR   E_CNTR   N_CNTR  KTNR  \\\n",
      "0      15695   3832           Grono     331  2731900  1123300    18   \n",
      "1      15962   3506     Vaz/Obervaz    1475  2761800  1177300    18   \n",
      "2      15963   3513    Lantsch/Lenz    1309  2762500  1172400    18   \n",
      "3      15964   3514  Schmitten (GR)    1264  2770800  1173200    18   \n",
      "4      15967   3551          Brusio     748  2807200  1126400    18   \n",
      "5      15968   3561       Poschiavo    1012  2801700  1133800    18   \n",
      "6      15969   3572          Falera    1213  2736900  1184900    18   \n",
      "7      15970   3575            Laax    1021  2738800  1185400    18   \n",
      "8      15971   3581          Sagogn     763  2738700  1183800    18   \n",
      "9      15972   3582        Schluein     756  2736700  1183500    18   \n",
      "\n",
      "                             KTNAME  BEZNR          BEZNAME        Lat  \\\n",
      "0  Graubünden / Grigioni / Grischun   1847     Region Moesa  46.248199   \n",
      "1  Graubünden / Grigioni / Grischun   1841    Region Albula  46.727258   \n",
      "2  Graubünden / Grigioni / Grischun   1841    Region Albula  46.683026   \n",
      "3  Graubünden / Grigioni / Grischun   1841    Region Albula  46.688146   \n",
      "4  Graubünden / Grigioni / Grischun   1842   Region Bernina  46.257087   \n",
      "5  Graubünden / Grigioni / Grischun   1842   Region Bernina  46.325291   \n",
      "6  Graubünden / Grigioni / Grischun   1850  Region Surselva  46.801184   \n",
      "7  Graubünden / Grigioni / Grischun   1850  Region Surselva  46.805287   \n",
      "8  Graubünden / Grigioni / Grischun   1850  Region Surselva  46.790919   \n",
      "9  Graubünden / Grigioni / Grischun   1850  Region Surselva  46.788635   \n",
      "\n",
      "         Lon  \n",
      "0   9.149045  \n",
      "1   9.555495  \n",
      "2   9.562913  \n",
      "3   9.671655  \n",
      "4  10.126247  \n",
      "5  10.058164  \n",
      "6   9.232120  \n",
      "7   9.257154  \n",
      "8   9.255359  \n",
      "9   9.229082  \n"
     ]
    }
   ],
   "source": [
    "lat_column = []\n",
    "lon_column = []\n",
    "for row in df.itertuples():\n",
    "    lat, lon = transformer.transform(row.E_CNTR, row.N_CNTR)\n",
    "    lat_column.append(lat)\n",
    "    lon_column.append(lon)\n",
    "\n",
    "\n",
    "df['Lat'] = lat_column\n",
    "df['Lon'] = lon_column\n",
    "\n",
    "print(df.head(10))"
   ]
  },
  {
   "cell_type": "code",
   "execution_count": 6,
   "id": "ddba25a2",
   "metadata": {},
   "outputs": [],
   "source": [
    "df.to_excel('Gemeinden_Graubünden.xlsx')"
   ]
  }
 ],
 "metadata": {
  "kernelspec": {
   "display_name": "Python 3",
   "language": "python",
   "name": "python3"
  },
  "language_info": {
   "codemirror_mode": {
    "name": "ipython",
    "version": 3
   },
   "file_extension": ".py",
   "mimetype": "text/x-python",
   "name": "python",
   "nbconvert_exporter": "python",
   "pygments_lexer": "ipython3",
   "version": "3.11.4"
  }
 },
 "nbformat": 4,
 "nbformat_minor": 5
}
