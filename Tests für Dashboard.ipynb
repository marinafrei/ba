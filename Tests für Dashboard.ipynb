{
 "cells": [
  {
   "cell_type": "code",
   "execution_count": 2,
   "id": "4b86dbd5",
   "metadata": {},
   "outputs": [],
   "source": [
    "import pandas as pd"
   ]
  },
  {
   "cell_type": "code",
   "execution_count": 3,
   "id": "943fe56a",
   "metadata": {},
   "outputs": [],
   "source": [
    "df_results = pd.read_excel(\"results.xlsx\")\n",
    "df_gemeinden = pd.read_excel(\"Gemeinden_Graubünden.xlsx\")\n",
    "df_population = pd.read_excel(\"Bevölkerung_Kanton_Graubünden.xlsx\", usecols=\"A,AA,AB,AC\", header=1)"
   ]
  },
  {
   "cell_type": "code",
   "execution_count": 4,
   "id": "419121f2",
   "metadata": {},
   "outputs": [
    {
     "name": "stdout",
     "output_type": "stream",
     "text": [
      "                GDENAME  Alle betroffenen Personen  Alle betroffenen Frauen  \\\n",
      "0            GRAUBÜNDEN                     143955                  49684.5   \n",
      "1           Vaz/Obervaz                       1890                    656.0   \n",
      "2          Lantsch/Lenz                        365                    112.5   \n",
      "3        Schmitten (GR)                        131                     38.0   \n",
      "4          Albula/Alvra                        933                    297.0   \n",
      "..                  ...                        ...                      ...   \n",
      "97            Rongellen                         48                     15.0   \n",
      "98      Zillis-Reischen                        320                     99.5   \n",
      "99              Ferrera                         46                     18.0   \n",
      "100           Rheinwald                        378                    125.5   \n",
      "101  Muntogna da Schons                        245                     75.0   \n",
      "\n",
      "     Alle am wahrscheinlichsten betroffenen Frauen  \n",
      "0                                          25999.0  \n",
      "1                                            361.5  \n",
      "2                                             64.5  \n",
      "3                                             16.5  \n",
      "4                                            151.0  \n",
      "..                                             ...  \n",
      "97                                             8.0  \n",
      "98                                            38.0  \n",
      "99                                            11.5  \n",
      "100                                           60.0  \n",
      "101                                           41.0  \n",
      "\n",
      "[102 rows x 4 columns]\n"
     ]
    }
   ],
   "source": [
    "print(df_population)"
   ]
  },
  {
   "cell_type": "code",
   "execution_count": 5,
   "id": "af6461f2",
   "metadata": {},
   "outputs": [
    {
     "data": {
      "text/plain": [
       "dtype('int64')"
      ]
     },
     "execution_count": 5,
     "metadata": {},
     "output_type": "execute_result"
    }
   ],
   "source": [
    "df_gemeinden[\"GDEHISTID\"].dtype"
   ]
  },
  {
   "cell_type": "code",
   "execution_count": null,
   "id": "6d674dbe",
   "metadata": {},
   "outputs": [
    {
     "name": "stdout",
     "output_type": "stream",
     "text": [
      "            GDENAME  MinFahrzeit\n",
      "0      Albula/Alvra           30\n",
      "1            Andeer           16\n",
      "2             Arosa           45\n",
      "3             Avers           41\n",
      "4    Bergün Filisur           34\n",
      "..              ...          ...\n",
      "95      Vaz/Obervaz           28\n",
      "96           Zernez           32\n",
      "97  Zillis-Reischen           12\n",
      "98           Zizers           13\n",
      "99             Zuoz           16\n",
      "\n",
      "[100 rows x 2 columns]\n"
     ]
    }
   ],
   "source": [
    "min_fahrzeiten = df_results.groupby(\"GDENAME\")[\"Fahrzeit in min\"].min().reset_index()\n",
    "min_fahrzeiten.columns = [\"GDENAME\", \"MinFahrzeit\"]\n",
    "print(min_fahrzeiten)"
   ]
  },
  {
   "cell_type": "code",
   "execution_count": 7,
   "id": "092ea7a9",
   "metadata": {},
   "outputs": [],
   "source": [
    "df_gemeinden_subset = df_gemeinden[[\"GDEHISTID\", \"GDENAME\"]]"
   ]
  },
  {
   "cell_type": "code",
   "execution_count": 8,
   "id": "0f76a148",
   "metadata": {},
   "outputs": [],
   "source": [
    "df_min_fahrzeit = df_gemeinden_subset.merge(min_fahrzeiten, on=\"GDENAME\", how=\"inner\")\n",
    "df_population_subset = df_population[[\"GDENAME\", \"Alle betroffenen Personen\"]]\n",
    "df_min_fahrzeit = df_min_fahrzeit.merge(df_population_subset, on=\"GDENAME\", how=\"inner\")"
   ]
  },
  {
   "cell_type": "code",
   "execution_count": 9,
   "id": "2563ffa8",
   "metadata": {},
   "outputs": [
    {
     "name": "stdout",
     "output_type": "stream",
     "text": [
      "    GDEHISTID             GDENAME  MinFahrzeit  Alle betroffenen Personen\n",
      "0       15695               Grono           25                       1140\n",
      "1       15962         Vaz/Obervaz           28                       1890\n",
      "2       15963        Lantsch/Lenz           24                        365\n",
      "3       15964      Schmitten (GR)           26                        131\n",
      "4       15967              Brusio           16                        733\n",
      "..        ...                 ...          ...                        ...\n",
      "95      16125           Rheinwald           30                        378\n",
      "96      16586  La Punt Chamues-ch            9                        528\n",
      "97      16598  Muntogna da Schons           24                        245\n",
      "98      16610            Klosters           23                       3013\n",
      "99      16658                Chur            5                      27660\n",
      "\n",
      "[100 rows x 4 columns]\n"
     ]
    }
   ],
   "source": [
    "print(df_min_fahrzeit)"
   ]
  },
  {
   "cell_type": "code",
   "execution_count": 10,
   "id": "c64b4328",
   "metadata": {},
   "outputs": [
    {
     "name": "stdout",
     "output_type": "stream",
     "text": [
      "[0, 10, 20, 30, 40, 50, 60, 70, 80, 90, 100, 110, 120, 260]\n"
     ]
    }
   ],
   "source": [
    "bins = list(range(0, 120, 10)) + [120, 260]\n",
    "print(bins)"
   ]
  },
  {
   "cell_type": "code",
   "execution_count": 13,
   "id": "b1b664b6",
   "metadata": {},
   "outputs": [
    {
     "name": "stdout",
     "output_type": "stream",
     "text": [
      "['0-9 km', '10-19 km', '20-29 km', '30-39 km', '40-49 km', '50-59 km', '60-69 km', '70-79 km', '80-89 km', '90-99 km', '100-109 km', '110-119 km', '120+ Min']\n"
     ]
    }
   ],
   "source": [
    "labels = [f\"{i}-{i+9} Min\" for i in bins[:-2]] + [\"120+ Min\"]\n",
    "print(labels)"
   ]
  },
  {
   "cell_type": "code",
   "execution_count": null,
   "id": "51ec11da",
   "metadata": {},
   "outputs": [],
   "source": [
    "\n",
    "labels = ['0-9 Min', '10-19 Min', '20-29 Min', '30-39 Min', '40-49 Min', '50-59 Min', '60-69 Min', '70-79 Min', '80-89 Min', '90-99 Min', '100-109 Min', '110-119 Min', '120+ Min']\n",
    "df_min_fahrzeit[\"FahrzeitKlasse\"] = pd.cut(df_min_fahrzeit[\"MinFahrzeit\"], bins=bins, labels=labels, right=False)\n",
    "df_min_fahrzeit = df_min_fahrzeit.sort_values(by=\"FahrzeitKlasse\")\n",
    "df_grouped = df_min_fahrzeit.groupby(\"FahrzeitKlasse\", as_index=False, observed=False)[\"Alle betroffenen Personen\"].sum()"
   ]
  },
  {
   "cell_type": "code",
   "execution_count": 117,
   "id": "a04f9860",
   "metadata": {},
   "outputs": [
    {
     "name": "stdout",
     "output_type": "stream",
     "text": [
      "    GDEHISTID      GDENAME  MinFahrzeit  Alle betroffenen Personen  \\\n",
      "99      16658         Chur            5                      27660   \n",
      "61      16036      Schiers            1                       2087   \n",
      "69      16047        Davos            3                       7729   \n",
      "72      16051        Cazis            5                       1712   \n",
      "75      16054       Grüsch            5                       1526   \n",
      "..        ...          ...          ...                        ...   \n",
      "29      16000      Samnaun           40                        584   \n",
      "18      15984        Avers           41                         99   \n",
      "66      16042     Tujetsch           49                        781   \n",
      "73      16052    Bregaglia           50                       1051   \n",
      "71      16049  Val Müstair           73                        933   \n",
      "\n",
      "   FahrzeitKlasse  \n",
      "99        0-9 Min  \n",
      "61        0-9 Min  \n",
      "69        0-9 Min  \n",
      "72        0-9 Min  \n",
      "75        0-9 Min  \n",
      "..            ...  \n",
      "29      40-49 Min  \n",
      "18      40-49 Min  \n",
      "66      40-49 Min  \n",
      "73      50-59 Min  \n",
      "71      70-79 Min  \n",
      "\n",
      "[100 rows x 5 columns]\n"
     ]
    }
   ],
   "source": [
    "print(df_min_fahrzeit)"
   ]
  },
  {
   "cell_type": "code",
   "execution_count": 118,
   "id": "ae9fb8ea",
   "metadata": {},
   "outputs": [
    {
     "name": "stdout",
     "output_type": "stream",
     "text": [
      "   FahrzeitKlasse  Alle betroffenen Personen\n",
      "0         0-9 Min                      60288\n",
      "1       10-19 Min                      53432\n",
      "2       20-29 Min                      15538\n",
      "3       30-39 Min                       8409\n",
      "4       40-49 Min                       4113\n",
      "5       50-59 Min                       1051\n",
      "6       60-69 Min                          0\n",
      "7       70-79 Min                        933\n",
      "8       80-89 Min                          0\n",
      "9       90-99 Min                          0\n",
      "10    100-109 Min                          0\n",
      "11    110-119 Min                          0\n",
      "12       120+ Min                          0\n"
     ]
    }
   ],
   "source": [
    "print(df_grouped)"
   ]
  }
 ],
 "metadata": {
  "kernelspec": {
   "display_name": "venv",
   "language": "python",
   "name": "python3"
  },
  "language_info": {
   "codemirror_mode": {
    "name": "ipython",
    "version": 3
   },
   "file_extension": ".py",
   "mimetype": "text/x-python",
   "name": "python",
   "nbconvert_exporter": "python",
   "pygments_lexer": "ipython3",
   "version": "3.11.4"
  }
 },
 "nbformat": 4,
 "nbformat_minor": 5
}
