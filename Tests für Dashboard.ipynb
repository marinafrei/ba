{
 "cells": [
  {
   "cell_type": "code",
   "execution_count": 1,
   "id": "4b86dbd5",
   "metadata": {},
   "outputs": [],
   "source": [
    "import pandas as pd"
   ]
  },
  {
   "cell_type": "code",
   "execution_count": null,
   "id": "943fe56a",
   "metadata": {},
   "outputs": [],
   "source": [
    "df_results = pd.read_excel(\"results.xlsx\")\n",
    "df_gemeinden = pd.read_excel(\"Gemeinden_Graubünden.xlsx\")"
   ]
  },
  {
   "cell_type": "code",
   "execution_count": 12,
   "id": "af6461f2",
   "metadata": {},
   "outputs": [
    {
     "data": {
      "text/plain": [
       "dtype('int64')"
      ]
     },
     "execution_count": 12,
     "metadata": {},
     "output_type": "execute_result"
    }
   ],
   "source": [
    "df_gemeinden[\"GDEHISTID\"].dtype"
   ]
  },
  {
   "cell_type": "code",
   "execution_count": 8,
   "id": "6d674dbe",
   "metadata": {},
   "outputs": [
    {
     "name": "stdout",
     "output_type": "stream",
     "text": [
      "            GDENAME  MinFahrzeit\n",
      "0      Albula/Alvra           30\n",
      "1            Andeer           16\n",
      "2             Arosa           45\n",
      "3             Avers           41\n",
      "4    Bergün Filisur           34\n",
      "..              ...          ...\n",
      "95      Vaz/Obervaz           29\n",
      "96           Zernez           32\n",
      "97  Zillis-Reischen           12\n",
      "98           Zizers           13\n",
      "99             Zuoz           16\n",
      "\n",
      "[100 rows x 2 columns]\n"
     ]
    }
   ],
   "source": [
    "min_fahrzeiten = df_results.groupby(\"GDENAME\")[\"Fahrzeit in min\"].min().reset_index()\n",
    "min_fahrzeiten.columns = [\"GDENAME\", \"MinFahrzeit\"]\n",
    "print(min_fahrzeiten)"
   ]
  },
  {
   "cell_type": "code",
   "execution_count": 9,
   "id": "092ea7a9",
   "metadata": {},
   "outputs": [],
   "source": [
    "df_gemeinden_subset = df_gemeinden[[\"GDEHISTID\", \"GDENAME\"]]"
   ]
  },
  {
   "cell_type": "code",
   "execution_count": 10,
   "id": "0f76a148",
   "metadata": {},
   "outputs": [],
   "source": [
    "df_min_fahrzeit = df_gemeinden_subset.merge(min_fahrzeiten, on=\"GDENAME\", how=\"inner\")"
   ]
  },
  {
   "cell_type": "code",
   "execution_count": 11,
   "id": "2563ffa8",
   "metadata": {},
   "outputs": [
    {
     "name": "stdout",
     "output_type": "stream",
     "text": [
      "    GDEHISTID             GDENAME  MinFahrzeit\n",
      "0       15695               Grono           25\n",
      "1       15962         Vaz/Obervaz           29\n",
      "2       15963        Lantsch/Lenz           24\n",
      "3       15964      Schmitten (GR)           26\n",
      "4       15967              Brusio           16\n",
      "..        ...                 ...          ...\n",
      "95      16125           Rheinwald           30\n",
      "96      16586  La Punt Chamues-ch            9\n",
      "97      16598  Muntogna da Schons           24\n",
      "98      16610            Klosters           23\n",
      "99      16658                Chur            5\n",
      "\n",
      "[100 rows x 3 columns]\n"
     ]
    }
   ],
   "source": [
    "print(df_min_fahrzeit)"
   ]
  }
 ],
 "metadata": {
  "kernelspec": {
   "display_name": "venv",
   "language": "python",
   "name": "python3"
  },
  "language_info": {
   "codemirror_mode": {
    "name": "ipython",
    "version": 3
   },
   "file_extension": ".py",
   "mimetype": "text/x-python",
   "name": "python",
   "nbconvert_exporter": "python",
   "pygments_lexer": "ipython3",
   "version": "3.11.4"
  }
 },
 "nbformat": 4,
 "nbformat_minor": 5
}
