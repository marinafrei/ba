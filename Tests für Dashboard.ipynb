{
 "cells": [
  {
   "cell_type": "code",
   "execution_count": 46,
   "id": "4b86dbd5",
   "metadata": {},
   "outputs": [],
   "source": [
    "import pandas as pd"
   ]
  },
  {
   "cell_type": "code",
   "execution_count": 57,
   "id": "943fe56a",
   "metadata": {},
   "outputs": [],
   "source": [
    "df_results = pd.read_excel(\"results.xlsx\")\n",
    "df_gemeinden = pd.read_excel(\"Gemeinden_Graubünden.xlsx\")\n",
    "df_population = pd.read_excel(\"Bevölkerung_Kanton_Graubünden.xlsx\", usecols=\"A,AA,AB,AC\", header=1)"
   ]
  },
  {
   "cell_type": "code",
   "execution_count": 58,
   "id": "419121f2",
   "metadata": {},
   "outputs": [
    {
     "name": "stdout",
     "output_type": "stream",
     "text": [
      "                GDENAME  Alle betroffenen Personen  Alle betroffenen Frauen  \\\n",
      "0            GRAUBÜNDEN                     143955                  49684.5   \n",
      "1           Vaz/Obervaz                       1890                    656.0   \n",
      "2          Lantsch/Lenz                        365                    112.5   \n",
      "3        Schmitten (GR)                        131                     38.0   \n",
      "4          Albula/Alvra                        933                    297.0   \n",
      "..                  ...                        ...                      ...   \n",
      "97            Rongellen                         48                     15.0   \n",
      "98      Zillis-Reischen                        320                     99.5   \n",
      "99              Ferrera                         46                     18.0   \n",
      "100           Rheinwald                        378                    125.5   \n",
      "101  Muntogna da Schons                        245                     75.0   \n",
      "\n",
      "     Alle am wahrscheinlichsten betroffenen Frauen  \n",
      "0                                          25999.0  \n",
      "1                                            361.5  \n",
      "2                                             64.5  \n",
      "3                                             16.5  \n",
      "4                                            151.0  \n",
      "..                                             ...  \n",
      "97                                             8.0  \n",
      "98                                            38.0  \n",
      "99                                            11.5  \n",
      "100                                           60.0  \n",
      "101                                           41.0  \n",
      "\n",
      "[102 rows x 4 columns]\n"
     ]
    }
   ],
   "source": [
    "print(df_population)"
   ]
  },
  {
   "cell_type": "code",
   "execution_count": 59,
   "id": "af6461f2",
   "metadata": {},
   "outputs": [
    {
     "data": {
      "text/plain": [
       "dtype('int64')"
      ]
     },
     "execution_count": 59,
     "metadata": {},
     "output_type": "execute_result"
    }
   ],
   "source": [
    "df_gemeinden[\"GDEHISTID\"].dtype"
   ]
  },
  {
   "cell_type": "code",
   "execution_count": 60,
   "id": "6d674dbe",
   "metadata": {},
   "outputs": [
    {
     "name": "stdout",
     "output_type": "stream",
     "text": [
      "            GDENAME  MinFahrzeit\n",
      "0      Albula/Alvra           30\n",
      "1            Andeer           16\n",
      "2             Arosa           45\n",
      "3             Avers           41\n",
      "4    Bergün Filisur           34\n",
      "..              ...          ...\n",
      "95      Vaz/Obervaz           28\n",
      "96           Zernez           32\n",
      "97  Zillis-Reischen           12\n",
      "98           Zizers           13\n",
      "99             Zuoz           16\n",
      "\n",
      "[100 rows x 2 columns]\n"
     ]
    }
   ],
   "source": [
    "min_fahrzeiten = df_results.groupby(\"GDENAME\")[\"Fahrzeit in min\"].min().reset_index()\n",
    "min_fahrzeiten.columns = [\"GDENAME\", \"MinFahrzeit\"]\n",
    "print(min_fahrzeiten)"
   ]
  },
  {
   "cell_type": "code",
   "execution_count": 61,
   "id": "092ea7a9",
   "metadata": {},
   "outputs": [],
   "source": [
    "df_gemeinden_subset = df_gemeinden[[\"GDEHISTID\", \"GDENAME\"]]"
   ]
  },
  {
   "cell_type": "code",
   "execution_count": 62,
   "id": "0f76a148",
   "metadata": {},
   "outputs": [],
   "source": [
    "df_min_fahrzeit = df_gemeinden_subset.merge(min_fahrzeiten, on=\"GDENAME\", how=\"inner\")\n",
    "df_population_subset = df_population[[\"GDENAME\", \"Alle betroffenen Personen\"]]\n",
    "df_min_fahrzeit = df_min_fahrzeit.merge(df_population_subset, on=\"GDENAME\", how=\"inner\")"
   ]
  },
  {
   "cell_type": "code",
   "execution_count": 63,
   "id": "2563ffa8",
   "metadata": {},
   "outputs": [
    {
     "name": "stdout",
     "output_type": "stream",
     "text": [
      "    GDEHISTID             GDENAME  MinFahrzeit  Alle betroffenen Personen\n",
      "0       15695               Grono           25                       1140\n",
      "1       15962         Vaz/Obervaz           28                       1890\n",
      "2       15963        Lantsch/Lenz           24                        365\n",
      "3       15964      Schmitten (GR)           26                        131\n",
      "4       15967              Brusio           16                        733\n",
      "..        ...                 ...          ...                        ...\n",
      "95      16125           Rheinwald           30                        378\n",
      "96      16586  La Punt Chamues-ch            9                        528\n",
      "97      16598  Muntogna da Schons           24                        245\n",
      "98      16610            Klosters           23                       3013\n",
      "99      16658                Chur            5                      27660\n",
      "\n",
      "[100 rows x 4 columns]\n"
     ]
    }
   ],
   "source": [
    "print(df_min_fahrzeit)"
   ]
  },
  {
   "cell_type": "code",
   "execution_count": 65,
   "id": "c64b4328",
   "metadata": {},
   "outputs": [
    {
     "name": "stdout",
     "output_type": "stream",
     "text": [
      "[0, 10, 20, 30, 40, 50, 60, 70, 80, 90, 100, 110, 120, 130, 140, 200, 260]\n"
     ]
    }
   ],
   "source": [
    "bins = list(range(0, 150, 10)) + [200, 260]\n",
    "print(bins)"
   ]
  },
  {
   "cell_type": "code",
   "execution_count": null,
   "id": "51ec11da",
   "metadata": {},
   "outputs": [
    {
     "name": "stdout",
     "output_type": "stream",
     "text": [
      "['0-9 Min', '10-19 Min', '20-29 Min', '30-39 Min', '40-49 Min', '50-59 Min', '60-69 Min', '70-79 Min', '80-89 Min', '90-99 Min', '100-109 Min', '110-119 Min', '120-129 Min', '130-139 Min', '140-149 Min', '200-209 Min']\n"
     ]
    }
   ],
   "source": [
    "labels = ['0-9 Min', '10-19 Min', '20-29 Min', '30-39 Min', '40-49 Min', '50-59 Min', '60-69 Min', '70-79 Min', '80-89 Min', '90-99 Min', '100-109 Min', '110-119 Min', '120-129 Min', '130-139 Min', '140-200 Min', '200-260 Min']\n",
    "print(labels)\n",
    "df_min_fahrzeit[\"FahrzeitKlasse\"] = pd.cut(df_min_fahrzeit[\"MinFahrzeit\"], bins=bins, labels=labels, right=False)"
   ]
  },
  {
   "cell_type": "code",
   "execution_count": 55,
   "id": "3db4db9a",
   "metadata": {},
   "outputs": [
    {
     "name": "stdout",
     "output_type": "stream",
     "text": [
      "    GDEHISTID             GDENAME  MinFahrzeit  Alle betroffenen Personen  \\\n",
      "0       15695               Grono           25                       1140   \n",
      "1       15962         Vaz/Obervaz           28                       1890   \n",
      "2       15963        Lantsch/Lenz           24                        365   \n",
      "3       15964      Schmitten (GR)           26                        131   \n",
      "4       15967              Brusio           16                        733   \n",
      "..        ...                 ...          ...                        ...   \n",
      "95      16125           Rheinwald           30                        378   \n",
      "96      16586  La Punt Chamues-ch            9                        528   \n",
      "97      16598  Muntogna da Schons           24                        245   \n",
      "98      16610            Klosters           23                       3013   \n",
      "99      16658                Chur            5                      27660   \n",
      "\n",
      "   FahrzeitKlasse  \n",
      "0       20-29 Min  \n",
      "1       20-29 Min  \n",
      "2       20-29 Min  \n",
      "3       20-29 Min  \n",
      "4       10-19 Min  \n",
      "..            ...  \n",
      "95      30-39 Min  \n",
      "96        0-9 Min  \n",
      "97      20-29 Min  \n",
      "98      20-29 Min  \n",
      "99        0-9 Min  \n",
      "\n",
      "[100 rows x 5 columns]\n"
     ]
    }
   ],
   "source": [
    "print(df_min_fahrzeit)"
   ]
  },
  {
   "cell_type": "code",
   "execution_count": 56,
   "id": "0f356883",
   "metadata": {},
   "outputs": [
    {
     "name": "stdout",
     "output_type": "stream",
     "text": [
      "   FahrzeitKlasse  Alle betroffenen Personen\n",
      "0         0-9 Min                      60288\n",
      "1       10-19 Min                      53432\n",
      "2       20-29 Min                      15538\n",
      "3       30-39 Min                       8409\n",
      "4       40-49 Min                       4113\n",
      "5       50-59 Min                       1051\n",
      "6       60-69 Min                          0\n",
      "7       70-79 Min                        933\n",
      "8       80-89 Min                          0\n",
      "9       90-99 Min                          0\n",
      "10    100-109 Min                          0\n",
      "11    110-119 Min                          0\n",
      "12    120-129 Min                          0\n",
      "13    130-139 Min                          0\n",
      "14    140-149 Min                          0\n",
      "15    150-159 Min                          0\n",
      "16    160-169 Min                          0\n",
      "17    170-179 Min                          0\n",
      "18    180-189 Min                          0\n",
      "19    190-199 Min                          0\n",
      "20    200-209 Min                          0\n",
      "21    210-219 Min                          0\n",
      "22    220-229 Min                          0\n",
      "23    230-239 Min                          0\n",
      "24    240-249 Min                          0\n",
      "25    250-259 Min                          0\n"
     ]
    },
    {
     "name": "stderr",
     "output_type": "stream",
     "text": [
      "C:\\Users\\Marina Frei\\AppData\\Local\\Temp\\ipykernel_13144\\3347913789.py:1: FutureWarning: The default of observed=False is deprecated and will be changed to True in a future version of pandas. Pass observed=False to retain current behavior or observed=True to adopt the future default and silence this warning.\n",
      "  df_grouped = df_min_fahrzeit.groupby(\"FahrzeitKlasse\", as_index=False)[\"Alle betroffenen Personen\"].sum()\n"
     ]
    }
   ],
   "source": [
    "df_grouped = df_min_fahrzeit.groupby(\"FahrzeitKlasse\", as_index=False)[\"Alle betroffenen Personen\"].sum()\n",
    "print(df_grouped)"
   ]
  },
  {
   "cell_type": "code",
   "execution_count": null,
   "id": "a04f9860",
   "metadata": {},
   "outputs": [],
   "source": []
  }
 ],
 "metadata": {
  "kernelspec": {
   "display_name": "venv",
   "language": "python",
   "name": "python3"
  },
  "language_info": {
   "codemirror_mode": {
    "name": "ipython",
    "version": 3
   },
   "file_extension": ".py",
   "mimetype": "text/x-python",
   "name": "python",
   "nbconvert_exporter": "python",
   "pygments_lexer": "ipython3",
   "version": "3.11.4"
  }
 },
 "nbformat": 4,
 "nbformat_minor": 5
}
