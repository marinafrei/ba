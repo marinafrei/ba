{
 "cells": [
  {
   "cell_type": "code",
   "execution_count": 1,
   "id": "f9d24d02",
   "metadata": {},
   "outputs": [],
   "source": [
    "import requests\n",
    "import pandas as pd"
   ]
  },
  {
   "cell_type": "code",
   "execution_count": 17,
   "id": "6d3b115d",
   "metadata": {},
   "outputs": [],
   "source": [
    "with open('apikey.txt') as f:\n",
    "    api_key = f.read()\n",
    "\n",
    "url = 'https://api.openrouteservice.org/v2/matrix/driving-car'\n",
    "\n",
    "headers = {\n",
    "    'Authorization': api_key\n",
    "}\n",
    "\n",
    "body = {\"locations\":[[9.538647041793206,46.864206242578234],[9.14904544,46.24819876],[9.555494673,46.72725781],[9.562912848,46.6830258]],\"destinations\":[0]}\n"
   ]
  },
  {
   "cell_type": "code",
   "execution_count": 18,
   "id": "7e17e2ea",
   "metadata": {},
   "outputs": [
    {
     "name": "stdout",
     "output_type": "stream",
     "text": [
      "Angefragte URL: https://api.openrouteservice.org/v2/matrix/driving-car\n",
      "Antwort: {'durations': [[0.0], [6493.6], [1823.64], [2234.07]], 'destinations': [{'location': [9.538578, 46.864226], 'snapped_distance': 5.68}], 'sources': [{'location': [9.538578, 46.864226], 'snapped_distance': 5.68}, {'location': [9.149038, 46.248208], 'snapped_distance': 1.14}, {'location': [9.555452, 46.727311], 'snapped_distance': 6.74}, {'location': [9.562806, 46.683045], 'snapped_distance': 8.44}], 'metadata': {'attribution': 'openrouteservice.org | OpenStreetMap contributors', 'service': 'matrix', 'timestamp': 1746371316772, 'query': {'locations': [[9.538647041793206, 46.864206242578234], [9.14904544, 46.24819876], [9.555494673, 46.72725781], [9.562912848, 46.6830258]], 'profile': 'driving-car', 'profileName': 'driving-car', 'responseType': 'json', 'destinations': ['0']}, 'engine': {'version': '9.1.2', 'build_date': '2025-04-10T21:25:30Z', 'graph_date': '2025-04-28T14:44:29Z'}}}\n"
     ]
    }
   ],
   "source": [
    "response = requests.post(url, json=body, headers=headers)\n",
    "\n",
    "# Ausgabe der URL (zur Kontrolle)\n",
    "print(\"Angefragte URL:\", response.url)\n",
    "\n",
    "# Antwort anzeigen\n",
    "print(\"Antwort:\", response.json())"
   ]
  }
 ],
 "metadata": {
  "kernelspec": {
   "display_name": "Python 3",
   "language": "python",
   "name": "python3"
  },
  "language_info": {
   "codemirror_mode": {
    "name": "ipython",
    "version": 3
   },
   "file_extension": ".py",
   "mimetype": "text/x-python",
   "name": "python",
   "nbconvert_exporter": "python",
   "pygments_lexer": "ipython3",
   "version": "3.11.4"
  }
 },
 "nbformat": 4,
 "nbformat_minor": 5
}
