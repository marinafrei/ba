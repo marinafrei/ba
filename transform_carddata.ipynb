{
 "cells": [
  {
   "cell_type": "code",
   "execution_count": 19,
   "id": "852b634e",
   "metadata": {},
   "outputs": [],
   "source": [
    "import geopandas as gpd\n",
    "import json"
   ]
  },
  {
   "cell_type": "code",
   "execution_count": 20,
   "id": "bad90ced",
   "metadata": {},
   "outputs": [],
   "source": [
    "gdf = gpd.read_file(\"./Kartendaten/original/swissBOUNDARIES3D_1_5_TLM_HOHEITSGEBIET.shp\")"
   ]
  },
  {
   "cell_type": "code",
   "execution_count": 21,
   "id": "112c67c9",
   "metadata": {},
   "outputs": [
    {
     "name": "stdout",
     "output_type": "stream",
     "text": [
      "                                     UUID DATUM_AEND DATUM_ERST  ERSTELL_J  \\\n",
      "0  {5D7E5812-120E-491A-BFCD-CCED809316F4} 2024-10-18 2008-11-24       1997   \n",
      "1  {72947F82-8AB3-4334-AFC5-08B4FB50FEFC} 2024-10-18 2008-11-24       2000   \n",
      "2  {D0755E75-03C7-4185-B46C-26A6C46239BB} 2024-10-21 2008-11-24       2006   \n",
      "3  {993CEB7E-AF34-4056-916D-B4D5D3233716} 2024-10-18 2008-11-24       2000   \n",
      "4  {F1F1C98A-F1FF-4A05-9EF3-9B07C13D0F06} 2024-10-18 2008-11-24       1997   \n",
      "\n",
      "  ERSTELL_M  GRUND_AEND   HERKUNFT  HERKUNFT_J HERKUNFT_M  REVISION_J  ...  \\\n",
      "0         1  Verbessert  swisstopo        2025          1        2025  ...   \n",
      "1         1  Verbessert  swisstopo        2025          1        2025  ...   \n",
      "2         1  Verbessert  swisstopo        2025          1        2025  ...   \n",
      "3         1  Verbessert  swisstopo        2025          1        2025  ...   \n",
      "4         1  Verbessert  swisstopo        2025          1        2025  ...   \n",
      "\n",
      "  BEZIRKSNUM KANTONSNUM       NAME  GEM_FLAECH  SEE_FLAECH  ICC         SHN  \\\n",
      "0      106.0        1.0   Adliswil         777           0   CH  CH01060131   \n",
      "1     1851.0       18.0  Rheinwald       13681           0   CH  CH18513714   \n",
      "2     2228.0       22.0      Grens         256           0   CH  CH22285722   \n",
      "3     2601.0       26.0  Val Terbi        4669           0   CH  CH26016730   \n",
      "4     1904.0       19.0   Windisch         491           0   CH  CH19044123   \n",
      "\n",
      "   EINWOHNERZ  HIST_NR                                           geometry  \n",
      "0       19707  11745.0  POLYGON Z ((2682588.433 1239418.954 452.658, 2...  \n",
      "1         576  16125.0  POLYGON Z ((2747636.177 1152720.387 3027.324, ...  \n",
      "2         395  14728.0  POLYGON Z ((2505186.356 1139817.844 479.792, 2...  \n",
      "3        3269  16119.0  POLYGON Z ((2602713.788 1239572.35 1145.43, 26...  \n",
      "4        8060  10360.0  POLYGON Z ((2659073.266 1256864.692 420.038, 2...  \n",
      "\n",
      "[5 rows x 24 columns]\n"
     ]
    }
   ],
   "source": [
    "print(gdf.head())"
   ]
  },
  {
   "cell_type": "code",
   "execution_count": 22,
   "id": "5510f15f",
   "metadata": {},
   "outputs": [
    {
     "name": "stdout",
     "output_type": "stream",
     "text": [
      "<class 'geopandas.geodataframe.GeoDataFrame'>\n",
      "RangeIndex: 2141 entries, 0 to 2140\n",
      "Data columns (total 24 columns):\n",
      " #   Column      Non-Null Count  Dtype         \n",
      "---  ------      --------------  -----         \n",
      " 0   UUID        2141 non-null   object        \n",
      " 1   DATUM_AEND  2141 non-null   datetime64[ms]\n",
      " 2   DATUM_ERST  2141 non-null   datetime64[ms]\n",
      " 3   ERSTELL_J   2141 non-null   int64         \n",
      " 4   ERSTELL_M   2141 non-null   object        \n",
      " 5   GRUND_AEND  2141 non-null   object        \n",
      " 6   HERKUNFT    2141 non-null   object        \n",
      " 7   HERKUNFT_J  2141 non-null   int64         \n",
      " 8   HERKUNFT_M  2141 non-null   object        \n",
      " 9   REVISION_J  2141 non-null   int64         \n",
      " 10  REVISION_M  2141 non-null   object        \n",
      " 11  REVISION_Q  2141 non-null   object        \n",
      " 12  OBJEKTART   2141 non-null   object        \n",
      " 13  BFS_NUMMER  2141 non-null   int64         \n",
      " 14  BEZIRKSNUM  1990 non-null   float64       \n",
      " 15  KANTONSNUM  2128 non-null   float64       \n",
      " 16  NAME        2141 non-null   object        \n",
      " 17  GEM_FLAECH  2141 non-null   int64         \n",
      " 18  SEE_FLAECH  2141 non-null   int64         \n",
      " 19  ICC         2141 non-null   object        \n",
      " 20  SHN         2139 non-null   object        \n",
      " 21  EINWOHNERZ  2141 non-null   int64         \n",
      " 22  HIST_NR     2128 non-null   float64       \n",
      " 23  geometry    2141 non-null   geometry      \n",
      "dtypes: datetime64[ms](2), float64(3), geometry(1), int64(7), object(11)\n",
      "memory usage: 401.6+ KB\n",
      "None\n"
     ]
    }
   ],
   "source": [
    "print(gdf.info())"
   ]
  },
  {
   "cell_type": "code",
   "execution_count": 23,
   "id": "9af40189",
   "metadata": {},
   "outputs": [
    {
     "name": "stdout",
     "output_type": "stream",
     "text": [
      "COMPD_CS[\"CH1903+ / LV95 + LN02 height\",PROJCS[\"CH1903+ / LV95\",GEOGCS[\"CH1903+\",DATUM[\"CH1903+\",SPHEROID[\"Bessel 1841\",6377397.155,299.1528128,AUTHORITY[\"EPSG\",\"7004\"]],AUTHORITY[\"EPSG\",\"6150\"]],PRIMEM[\"Greenwich\",0,AUTHORITY[\"EPSG\",\"8901\"]],UNIT[\"degree\",0.0174532925199433,AUTHORITY[\"EPSG\",\"9122\"]],AUTHORITY[\"EPSG\",\"4150\"]],PROJECTION[\"Hotine_Oblique_Mercator_Azimuth_Center\"],PARAMETER[\"latitude_of_center\",46.9524055555556],PARAMETER[\"longitude_of_center\",7.43958333333333],PARAMETER[\"azimuth\",90],PARAMETER[\"rectified_grid_angle\",90],PARAMETER[\"scale_factor\",1],PARAMETER[\"false_easting\",2600000],PARAMETER[\"false_northing\",1200000],UNIT[\"metre\",1,AUTHORITY[\"EPSG\",\"9001\"]],AXIS[\"Easting\",EAST],AXIS[\"Northing\",NORTH],AUTHORITY[\"EPSG\",\"2056\"]],VERT_CS[\"LN02 height\",VERT_DATUM[\"Landesnivellement 1902\",2005,AUTHORITY[\"EPSG\",\"5127\"]],UNIT[\"metre\",1,AUTHORITY[\"EPSG\",\"9001\"]],AXIS[\"Gravity-related height\",UP],AUTHORITY[\"EPSG\",\"5728\"]]]\n"
     ]
    }
   ],
   "source": [
    "print(gdf.crs)"
   ]
  },
  {
   "cell_type": "code",
   "execution_count": 24,
   "id": "0c452b08",
   "metadata": {},
   "outputs": [],
   "source": [
    "filtered_gdf = gdf[gdf[\"KANTONSNUM\"] == 18.0]"
   ]
  },
  {
   "cell_type": "code",
   "execution_count": 26,
   "id": "d85bb749",
   "metadata": {},
   "outputs": [
    {
     "name": "stdout",
     "output_type": "stream",
     "text": [
      "(100, 24)\n"
     ]
    }
   ],
   "source": [
    "print(filtered_gdf.shape)"
   ]
  },
  {
   "cell_type": "markdown",
   "id": "b5741602",
   "metadata": {},
   "source": [
    "Umwandeln der Daten ins Koordinatensystem WGS84:"
   ]
  },
  {
   "cell_type": "code",
   "execution_count": 27,
   "id": "a1d64890",
   "metadata": {},
   "outputs": [],
   "source": [
    "filtered_gdf = filtered_gdf.to_crs(epsg=4326)"
   ]
  },
  {
   "cell_type": "markdown",
   "id": "a6b5ee84",
   "metadata": {},
   "source": [
    "Umwandeln der Daten in GeoJSON:"
   ]
  },
  {
   "cell_type": "code",
   "execution_count": 29,
   "id": "2dca4708",
   "metadata": {},
   "outputs": [],
   "source": [
    "filtered_gdf.to_file(\"./Kartendaten/transformiert/Kartendaten_Gemeinden.geojson\", driver=\"GeoJSON\")"
   ]
  }
 ],
 "metadata": {
  "kernelspec": {
   "display_name": "venv",
   "language": "python",
   "name": "python3"
  },
  "language_info": {
   "codemirror_mode": {
    "name": "ipython",
    "version": 3
   },
   "file_extension": ".py",
   "mimetype": "text/x-python",
   "name": "python",
   "nbconvert_exporter": "python",
   "pygments_lexer": "ipython3",
   "version": "3.11.4"
  }
 },
 "nbformat": 4,
 "nbformat_minor": 5
}
