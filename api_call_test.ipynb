{
 "cells": [
  {
   "cell_type": "code",
   "execution_count": 39,
   "id": "f9d24d02",
   "metadata": {},
   "outputs": [],
   "source": [
    "import requests\n",
    "import pandas as pd\n",
    "import numpy as np"
   ]
  },
  {
   "cell_type": "code",
   "execution_count": 40,
   "id": "cb830cf8",
   "metadata": {},
   "outputs": [
    {
     "name": "stdout",
     "output_type": "stream",
     "text": [
      "        ID      Ort                      Spitalname  Lat Geburt  Lon Geburt  \\\n",
      "0  SPITAL1     Chur        Kantonsspital Graubünden   46.861556    9.542201   \n",
      "1  SPITAL2  Samedan              Spital Oberengadin   46.539834    9.878988   \n",
      "2  SPITAL3    Ilanz         Regionalspital Surselva   46.777065    9.205079   \n",
      "3  SPITAL4    Davos                    Spital Davos   46.787802    9.814617   \n",
      "4  SPITAL5  Schiers  Flury Stiftung, Spital Schiers   46.971083    9.686235   \n",
      "\n",
      "  Geburtshilfe Neonatologie  \n",
      "0           Ja           Ja  \n",
      "1           Ja           Ja  \n",
      "2           Ja           Ja  \n",
      "3           Ja           Ja  \n",
      "4           Ja           Ja  \n"
     ]
    }
   ],
   "source": [
    "spital_df = pd.read_excel('Spitalliste_bereinigt_fuer_Dashboard.xlsx')\n",
    "print(spital_df.head())"
   ]
  },
  {
   "cell_type": "code",
   "execution_count": 41,
   "id": "9b4cb637",
   "metadata": {},
   "outputs": [
    {
     "name": "stdout",
     "output_type": "stream",
     "text": [
      "[[9.542201140210125, 46.861556296686246], [9.878987964240668, 46.5398337613234], [9.205079267687353, 46.77706472897187], [9.81461683289442, 46.78780225872632], [9.686234727259531, 46.97108280571786], [9.43696854228316, 46.697267020184185], [10.303826533438096, 46.7999988668582], [10.062210768116891, 46.32304714423666], [9.026225182498305, 46.184275341809496]]\n"
     ]
    }
   ],
   "source": [
    "locations = []\n",
    "for _, row in spital_df.iterrows():\n",
    "    lon = row[\"Lon Geburt\"]\n",
    "    lat = row[\"Lat Geburt\"]\n",
    "    locations.append([lon, lat]) \n",
    "print(locations)   "
   ]
  },
  {
   "cell_type": "code",
   "execution_count": 42,
   "id": "271e2a8a",
   "metadata": {},
   "outputs": [
    {
     "name": "stdout",
     "output_type": "stream",
     "text": [
      "   Unnamed: 0  GDEHISTID  GDENR         GDENAME  Z_CNTR   E_CNTR   N_CNTR  \\\n",
      "0           0      15695   3832           Grono     331  2731900  1123300   \n",
      "1           1      15962   3506     Vaz/Obervaz    1475  2761800  1177300   \n",
      "2           2      15963   3513    Lantsch/Lenz    1309  2762500  1172400   \n",
      "3           3      15964   3514  Schmitten (GR)    1264  2770800  1173200   \n",
      "4           4      15967   3551          Brusio     748  2807200  1126400   \n",
      "\n",
      "   KTNR                            KTNAME  BEZNR         BEZNAME        Lat  \\\n",
      "0    18  Graubünden / Grigioni / Grischun   1847    Region Moesa  46.248199   \n",
      "1    18  Graubünden / Grigioni / Grischun   1841   Region Albula  46.727258   \n",
      "2    18  Graubünden / Grigioni / Grischun   1841   Region Albula  46.683026   \n",
      "3    18  Graubünden / Grigioni / Grischun   1841   Region Albula  46.688146   \n",
      "4    18  Graubünden / Grigioni / Grischun   1842  Region Bernina  46.257087   \n",
      "\n",
      "         Lon  \n",
      "0   9.149045  \n",
      "1   9.555495  \n",
      "2   9.562913  \n",
      "3   9.671655  \n",
      "4  10.126247  \n"
     ]
    }
   ],
   "source": [
    "gemeinden_df = pd.read_excel('Gemeinden_Graubünden.xlsx')\n",
    "print(gemeinden_df.head())"
   ]
  },
  {
   "cell_type": "code",
   "execution_count": 43,
   "id": "8aac2de4",
   "metadata": {},
   "outputs": [
    {
     "name": "stdout",
     "output_type": "stream",
     "text": [
      "10\n"
     ]
    }
   ],
   "source": [
    "gemeinde_location = [gemeinden_df.loc[1, \"Lon\"], gemeinden_df.loc[1, \"Lat\"]]\n",
    "locations.append(gemeinde_location)\n",
    "print(len(locations))"
   ]
  },
  {
   "cell_type": "code",
   "execution_count": 44,
   "id": "6d3b115d",
   "metadata": {},
   "outputs": [],
   "source": [
    "with open('apikey.txt') as f:\n",
    "    api_key = f.read()\n",
    "\n",
    "url = 'https://api.openrouteservice.org/v2/matrix/driving-car'\n",
    "\n",
    "headers = {\n",
    "    'Authorization': api_key\n",
    "}\n",
    "\n",
    "body = {\"locations\":locations,\"destinations\":[0,1,2,3,4,5,6,7,8]}\n"
   ]
  },
  {
   "cell_type": "markdown",
   "id": "da4447a4",
   "metadata": {},
   "source": [
    "## API-Limiten beachten vor der Ausführung!!!\n",
    "\n",
    "500 pro Tag und 40 pro Minute"
   ]
  },
  {
   "cell_type": "code",
   "execution_count": null,
   "id": "7e17e2ea",
   "metadata": {},
   "outputs": [
    {
     "name": "stdout",
     "output_type": "stream",
     "text": [
      "Angefragte URL: https://api.openrouteservice.org/v2/matrix/driving-car\n",
      "Antwort: {'durations': [[0.0, 5757.17, 2444.48, 4557.89, 1734.77, 1765.14, 7218.77, 8338.75, 7745.22], [5802.89, 0.0, 6738.83, 4386.6, 6109.22, 4427.45, 3870.44, 2753.77, 10424.29], [2415.92, 6713.16, 0.0, 5860.82, 3426.06, 2631.29, 8910.05, 9294.74, 8255.33], [4564.39, 4387.01, 5880.72, 0.0, 2941.49, 3569.33, 3460.73, 6968.59, 9566.18], [1725.03, 6512.41, 3394.46, 2925.25, 0.0, 2715.12, 5586.12, 9093.99, 8695.2], [1770.13, 4435.42, 2706.08, 3583.08, 2780.27, 0.0, 7019.75, 7017.0, 6251.91], [6531.33, 3854.87, 8200.76, 3444.75, 4908.42, 6990.03, 0.0, 6436.45, 12986.88], [8368.66, 2746.24, 9304.6, 6952.37, 8674.99, 6993.22, 6436.21, 0.0, 12917.11], [7659.08, 10324.59, 8230.18, 9472.25, 8669.22, 6185.93, 12908.93, 12906.17, 0.0], [1831.49, 4062.88, 3570.55, 3022.69, 3151.64, 1717.94, 6459.37, 6644.46, 7714.78]], 'destinations': [{'location': [9.54192, 46.86168], 'snapped_distance': 25.45}, {'location': [9.879022, 46.539811], 'snapped_distance': 3.64}, {'location': [9.20502, 46.777134], 'snapped_distance': 8.95}, {'location': [9.814562, 46.787952], 'snapped_distance': 17.14}, {'location': [9.685788, 46.970781], 'snapped_distance': 47.68}, {'location': [9.437261, 46.697329], 'snapped_distance': 23.34}, {'location': [10.303769, 46.800134], 'snapped_distance': 15.65}, {'location': [10.062266, 46.323184], 'snapped_distance': 15.8}, {'location': [9.02592, 46.184246], 'snapped_distance': 23.71}], 'sources': [{'location': [9.54192, 46.86168], 'snapped_distance': 25.45}, {'location': [9.879022, 46.539811], 'snapped_distance': 3.64}, {'location': [9.20502, 46.777134], 'snapped_distance': 8.95}, {'location': [9.814562, 46.787952], 'snapped_distance': 17.14}, {'location': [9.685788, 46.970781], 'snapped_distance': 47.68}, {'location': [9.437261, 46.697329], 'snapped_distance': 23.34}, {'location': [10.303769, 46.800134], 'snapped_distance': 15.65}, {'location': [10.062266, 46.323184], 'snapped_distance': 15.8}, {'location': [9.02592, 46.184246], 'snapped_distance': 23.71}, {'location': [9.555452, 46.727311], 'snapped_distance': 6.74}], 'metadata': {'attribution': 'openrouteservice.org | OpenStreetMap contributors', 'service': 'matrix', 'timestamp': 1748876553355, 'query': {'locations': [[9.542201140210125, 46.861556296686246], [9.878987964240668, 46.5398337613234], [9.205079267687353, 46.77706472897187], [9.81461683289442, 46.78780225872632], [9.686234727259531, 46.97108280571786], [9.43696854228316, 46.697267020184185], [10.303826533438096, 46.7999988668582], [10.062210768116891, 46.32304714423666], [9.026225182498305, 46.184275341809496], [9.555494672565175, 46.72725780581376]], 'profile': 'driving-car', 'profileName': 'driving-car', 'responseType': 'json', 'destinations': ['0', '1', '2', '3', '4', '5', '6', '7', '8']}, 'engine': {'version': '9.2.0', 'build_date': '2025-05-06T08:31:01Z', 'graph_date': '2025-06-01T13:27:25Z'}}}\n"
     ]
    }
   ],
   "source": [
    "response = requests.post(url, json=body, headers=headers)\n",
    "\n",
    "# Ausgabe der URL (zur Kontrolle)\n",
    "print(\"Angefragte URL:\", response.url)\n",
    "\n",
    "# Antwort anzeigen\n",
    "print(\"Antwort:\", response.json())\n"
   ]
  }
 ],
 "metadata": {
  "kernelspec": {
   "display_name": "Python 3",
   "language": "python",
   "name": "python3"
  },
  "language_info": {
   "codemirror_mode": {
    "name": "ipython",
    "version": 3
   },
   "file_extension": ".py",
   "mimetype": "text/x-python",
   "name": "python",
   "nbconvert_exporter": "python",
   "pygments_lexer": "ipython3",
   "version": "3.11.4"
  }
 },
 "nbformat": 4,
 "nbformat_minor": 5
}
