{
 "cells": [
  {
   "cell_type": "code",
   "execution_count": 3,
   "id": "f9d24d02",
   "metadata": {},
   "outputs": [],
   "source": [
    "import requests\n",
    "import pandas as pd\n",
    "import numpy as np"
   ]
  },
  {
   "cell_type": "code",
   "execution_count": 32,
   "id": "cb830cf8",
   "metadata": {},
   "outputs": [
    {
     "name": "stdout",
     "output_type": "stream",
     "text": [
      "        ID      Ort                      Spitalname  Lat Geburt  Lon Geburt  \\\n",
      "0  SPITAL1     Chur        Kantonsspital Graubünden   46.861556    9.542201   \n",
      "1  SPITAL2  Samedan              Spital Oberengadin   46.539834    9.878988   \n",
      "2  SPITAL3    Ilanz         Regionalspital Surselva   46.777065    9.205079   \n",
      "3  SPITAL4    Davos                    Spital Davos   46.787802    9.814617   \n",
      "4  SPITAL5  Schiers  Flury Stiftung, Spital Schiers   46.971083    9.686235   \n",
      "\n",
      "  Geburtshilfe Neonatologie  \n",
      "0           Ja           Ja  \n",
      "1           Ja           Ja  \n",
      "2           Ja           Ja  \n",
      "3           Ja           Ja  \n",
      "4           Ja           Ja  \n"
     ]
    }
   ],
   "source": [
    "spital_df = pd.read_excel('Spitalliste_bereinigt_fuer_Dashboard.xlsx')\n",
    "print(spital_df.head())"
   ]
  },
  {
   "cell_type": "code",
   "execution_count": 33,
   "id": "9b4cb637",
   "metadata": {},
   "outputs": [
    {
     "name": "stdout",
     "output_type": "stream",
     "text": [
      "[[9.542201140210125, 46.861556296686246], [9.878987964240668, 46.5398337613234], [9.205079267687353, 46.77706472897187], [9.81461683289442, 46.78780225872632], [9.686234727259531, 46.97108280571786], [9.43696854228316, 46.697267020184185], [10.303826533438096, 46.7999988668582], [10.062210768116891, 46.32304714423666], [9.026225182498305, 46.184275341809496]]\n"
     ]
    }
   ],
   "source": [
    "locations = []\n",
    "for _, row in spital_df.iterrows():\n",
    "    lon = row[\"Lon Geburt\"]\n",
    "    lat = row[\"Lat Geburt\"]\n",
    "    locations.append([lon, lat]) \n",
    "print(locations)   "
   ]
  },
  {
   "cell_type": "code",
   "execution_count": 34,
   "id": "271e2a8a",
   "metadata": {},
   "outputs": [
    {
     "name": "stdout",
     "output_type": "stream",
     "text": [
      "   Unnamed: 0  GDEHISTID  GDENR         GDENAME  Z_CNTR   E_CNTR   N_CNTR  \\\n",
      "0           0      15695   3832           Grono     331  2731900  1123300   \n",
      "1           1      15962   3506     Vaz/Obervaz    1475  2761800  1177300   \n",
      "2           2      15963   3513    Lantsch/Lenz    1309  2762500  1172400   \n",
      "3           3      15964   3514  Schmitten (GR)    1264  2770800  1173200   \n",
      "4           4      15967   3551          Brusio     748  2807200  1126400   \n",
      "\n",
      "   KTNR                            KTNAME  BEZNR         BEZNAME        Lat  \\\n",
      "0    18  Graubünden / Grigioni / Grischun   1847    Region Moesa  46.248199   \n",
      "1    18  Graubünden / Grigioni / Grischun   1841   Region Albula  46.727258   \n",
      "2    18  Graubünden / Grigioni / Grischun   1841   Region Albula  46.683026   \n",
      "3    18  Graubünden / Grigioni / Grischun   1841   Region Albula  46.688146   \n",
      "4    18  Graubünden / Grigioni / Grischun   1842  Region Bernina  46.257087   \n",
      "\n",
      "         Lon  \n",
      "0   9.149045  \n",
      "1   9.555495  \n",
      "2   9.562913  \n",
      "3   9.671655  \n",
      "4  10.126247  \n"
     ]
    }
   ],
   "source": [
    "gemeinden_df = pd.read_excel('Gemeinden_Graubünden.xlsx')\n",
    "print(gemeinden_df.head())"
   ]
  },
  {
   "cell_type": "code",
   "execution_count": 35,
   "id": "8aac2de4",
   "metadata": {},
   "outputs": [
    {
     "name": "stdout",
     "output_type": "stream",
     "text": [
      "10\n"
     ]
    }
   ],
   "source": [
    "gemeinde_location = [gemeinden_df.loc[0, \"Lon\"], gemeinden_df.loc[0, \"Lat\"]]\n",
    "locations.append(gemeinde_location)\n",
    "print(len(locations))"
   ]
  },
  {
   "cell_type": "code",
   "execution_count": 17,
   "id": "6d3b115d",
   "metadata": {},
   "outputs": [],
   "source": [
    "with open('apikey.txt') as f:\n",
    "    api_key = f.read()\n",
    "\n",
    "url = 'https://api.openrouteservice.org/v2/matrix/driving-car'\n",
    "\n",
    "headers = {\n",
    "    'Authorization': api_key\n",
    "}\n",
    "\n",
    "body = {\"locations\":[[9.79507549338791, 46.4597695058769],[9.878987964240668,46.5398337613234]],\"destinations\":[1],\"metrics\":[\"duration\",\"distance\"], \"units\":\"km\"}\n"
   ]
  },
  {
   "cell_type": "code",
   "execution_count": 18,
   "id": "7e17e2ea",
   "metadata": {},
   "outputs": [
    {
     "name": "stdout",
     "output_type": "stream",
     "text": [
      "Angefragte URL: https://api.openrouteservice.org/v2/matrix/driving-car\n",
      "Antwort: {'durations': [[1282.9], [0.0]], 'distances': [[13.39], [0.0]], 'destinations': [{'location': [9.879022, 46.539811], 'snapped_distance': 3.64}], 'sources': [{'location': [9.794949, 46.459785], 'snapped_distance': 9.85}, {'location': [9.879022, 46.539811], 'snapped_distance': 3.64}], 'metadata': {'attribution': 'openrouteservice.org | OpenStreetMap contributors', 'service': 'matrix', 'timestamp': 1749027324537, 'query': {'locations': [[9.79507549338791, 46.4597695058769], [9.878987964240668, 46.5398337613234]], 'profile': 'driving-car', 'profileName': 'driving-car', 'responseType': 'json', 'destinations': ['1'], 'metrics': ['duration', 'distance'], 'units': 'km'}, 'engine': {'version': '9.2.0', 'build_date': '2025-05-06T08:31:01Z', 'graph_date': '2025-06-01T13:27:25Z'}}}\n"
     ]
    }
   ],
   "source": [
    "response = requests.post(url, json=body, headers=headers)\n",
    "\n",
    "# Ausgabe der URL (zur Kontrolle)\n",
    "print(\"Angefragte URL:\", response.url)\n",
    "\n",
    "# Antwort anzeigen\n",
    "print(\"Antwort:\", response.json())"
   ]
  }
 ],
 "metadata": {
  "kernelspec": {
   "display_name": "Python 3",
   "language": "python",
   "name": "python3"
  },
  "language_info": {
   "codemirror_mode": {
    "name": "ipython",
    "version": 3
   },
   "file_extension": ".py",
   "mimetype": "text/x-python",
   "name": "python",
   "nbconvert_exporter": "python",
   "pygments_lexer": "ipython3",
   "version": "3.11.4"
  }
 },
 "nbformat": 4,
 "nbformat_minor": 5
}
